{
 "cells": [
  {
   "cell_type": "code",
   "execution_count": null,
   "metadata": {},
   "outputs": [],
   "source": [
    "!pip install matplotlib pandas seaborn"
   ]
  },
  {
   "cell_type": "code",
   "execution_count": null,
   "metadata": {},
   "outputs": [],
   "source": [
    "%%javascript\n",
    "// Disables truncation of output window\n",
    "IPython.OutputArea.prototype._should_scroll = function(lines) {\n",
    "    return false;\n",
    "}"
   ]
  },
  {
   "cell_type": "code",
   "execution_count": null,
   "metadata": {},
   "outputs": [],
   "source": [
    "# Synthesis config - these can alternatively be provided via command-line\n",
    "import argparse\n",
    "args = argparse.Namespace()\n",
    "args.num_instances = 100\n",
    "args.num_features = 10\n",
    "args.sequence_length = 20\n",
    "args.model_type = \"regressor\"  # regressor/classifier\n",
    "args.fraction_relevant_features = 0.5\n",
    "args.window_independent = False  # Sequence dependence on windows\n",
    "args.output_dir = \"synmod_outputs\"\n",
    "args.seed = 42\n",
    "args.num_interactions = 0\n",
    "args.include_interaction_only_features = False\n",
    "# Don't alter:\n",
    "args.synthesis_type = \"temporal\"\n",
    "args.visualize_data = True\n",
    "args.notebook = True"
   ]
  },
  {
   "cell_type": "code",
   "execution_count": null,
   "metadata": {},
   "outputs": [],
   "source": [
    "# Synthesize data and model\n",
    "from synmod import master\n",
    "features, data, model = master.pipeline(args)"
   ]
  },
  {
   "cell_type": "code",
   "execution_count": null,
   "metadata": {},
   "outputs": [],
   "source": [
    "\"\"\"Visualize synthesized data\"\"\"\n",
    "\n",
    "from IPython.display import display\n",
    "import matplotlib.pyplot as plt\n",
    "import seaborn as sns\n",
    "import pandas as pd\n",
    "\n",
    "# Visualization config\n",
    "max_instances = 3  # Maximum number of instances to display per feature\n",
    "max_features = 10  # Maximum number of features to display\n",
    "display_irrelevant_features = False  # Flag to enable displaying irrelavant features\n",
    "plt.ion()  # FIXME: Interactive plotting\n",
    "sns.set(style=\"whitegrid\")\n",
    "\n",
    "\n",
    "# TODO: handle variable-length sequences\n",
    "# TODO: change generator access\n",
    "# TODO: refactor relevant_feature_map to use feature names instead of frozensets\n",
    "def visualize_data(args, features, data, model):\n",
    "    \"\"\"Visualize sequence data\"\"\"\n",
    "    # Select instances and features to visualize\n",
    "    instances = data[:min(max_instances, data.shape[0])]\n",
    "    if not display_irrelevant_features:\n",
    "        features = [feature for feature in features if frozenset({int(feature.name)}) in model.relevant_feature_map]\n",
    "    features = features[:min(len(features), max_features)]\n",
    "    # Visualize generators and time-series for each feature\n",
    "    for feature in features:\n",
    "        fid = int(feature.name)\n",
    "        generator_graph = feature._generator.graph()\n",
    "        fseqs = instances[:, fid]\n",
    "        data = pd.DataFrame(fseqs.transpose(), range(args.sequence_length))\n",
    "        series = sns.lineplot(data=data, palette=\"tab10\", linewidth=2.5)\n",
    "        print(\"Feature %d:\" % fid)\n",
    "        display(generator_graph)\n",
    "        plt.show()\n",
    "\n",
    "\n",
    "visualize_data(args, features, data, model)\n"
   ]
  }
 ],
 "metadata": {
  "kernelspec": {
   "display_name": "Python 3",
   "language": "python",
   "name": "python3"
  },
  "language_info": {
   "codemirror_mode": {
    "name": "ipython",
    "version": 3
   },
   "file_extension": ".py",
   "mimetype": "text/x-python",
   "name": "python",
   "nbconvert_exporter": "python",
   "pygments_lexer": "ipython3",
   "version": "3.7.6"
  }
 },
 "nbformat": 4,
 "nbformat_minor": 4
}
